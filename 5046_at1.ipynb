{
 "cells": [
  {
   "cell_type": "markdown",
   "metadata": {},
   "source": [
    "5046 AT1"
   ]
  },
  {
   "cell_type": "code",
   "execution_count": null,
   "metadata": {},
   "outputs": [],
   "source": [
    "# This is the function you need to implement\n",
    "def count_words(text: str, vocab: dict[str, int]) -> list[tuple[int, int]]:\n",
    "    \"\"\"Count the frequency of each word in a document.\n",
    "\n",
    "    Args:\n",
    "        text (str): the text of a document\n",
    "        vocab (dict[str, int]): a dictionary that maps from strings to integers, where each string is a token and each integer is an ID\n",
    "\n",
    "    Returns:\n",
    "        list[tuple[int, int]]: A list of tuples, where each tuple has the ID of a word and the count of its frequency\n",
    "    \"\"\"\n",
    "    # TODO\n",
    "    words = text.split()#\n",
    "    frequency = {}\n",
    "\n",
    "    for word in words:\n",
    "        if word in vocab:\n",
    "            if word in frequency:\n",
    "                frequency[word] +=1\n",
    "            else:\n",
    "                frequency[word] = 1\n",
    "    #result = [(vocab[word], count) for word, count in frequency.items()]\n",
    "    result = []\n",
    "    for word, count in frequency.items():\n",
    "        token_id = vocab[word]\n",
    "        result.append((token_id, count))\n",
    "    \n",
    "    return result\n",
    "\n",
    "\n",
    "#text = input()\n",
    "#vocab = input()\n"
   ]
  },
  {
   "cell_type": "code",
   "execution_count": null,
   "metadata": {},
   "outputs": [],
   "source": []
  }
 ],
 "metadata": {
  "kernelspec": {
   "display_name": "5329",
   "language": "python",
   "name": "python3"
  },
  "language_info": {
   "codemirror_mode": {
    "name": "ipython",
    "version": 3
   },
   "file_extension": ".py",
   "mimetype": "text/x-python",
   "name": "python",
   "nbconvert_exporter": "python",
   "pygments_lexer": "ipython3",
   "version": "3.9.21"
  }
 },
 "nbformat": 4,
 "nbformat_minor": 2
}
